{
 "cells": [
  {
   "cell_type": "markdown",
   "metadata": {},
   "source": [
    "# Supervised learning: Regression\n",
    "<b>Problem statement</b>:<br>\n",
    "We are given a collection of samples $\\{(\\mathbf{x}_i,y_i)\\}_{i=1}^N$, where $N$  is the size of the collection, $\\mathbf{x}_i$ is the sample vector containing $D$ features, and $y_i$ is a <b>real-valued</b> target attribute. The goal is to find a mathematical function which given a vector $\\mathbf{x}_k$ of features will output the target value $y_k$.\n",
    "\n",
    "In <b>Linear Regression</b> we assume that this mapping function has the following form:\n",
    "$$f(\\mathbf{x})=\\mathbf{w}\\mathbf{x} + b$$\n",
    "\n",
    "Here $\\mathbf{w}$ is a $D$-dimensional vector of parameters (weights) and $b$ is a constant.<br>\n",
    "The goal is to discover (learn) $f$ from data. Then we can use $f$ to predict $y$ given the feature vector for a new, unknown observation $\\mathbf{x}$: $y \\leftarrow f(\\mathbf{x})$.<br>\n",
    "For example, if $\\mathbf{x}$ has only a single feature (dimension) then we are looking for an equation of the line which fits the relationship between  $\\mathbf{x}$ and $y$ as close as possible:\n",
    "<img src=\"images/linear_regr_example.png\">"
   ]
  },
  {
   "cell_type": "markdown",
   "metadata": {},
   "source": [
    "<b>Solution:</b><br>\n",
    "Thus, to find coefficients $\\mathbf{w}$ and $b$ of the best-fitting line, we need to minimize the following expression:\n",
    "\n",
    "$$SSR=\\frac{1}{N} \\Sigma_{i=1}^N(f_{\\mathbf{w},b}(x_i) - y_i)^2$$\n",
    "\n",
    "The expression we are trying to minimize is called an <em>objective function</em>. The expression $(f(x_i) - y_i)^2$ is called the <em>loss function</em>. It is an absolute difference between the value predicted by the model and the empirical observation. \n",
    "\n",
    "In Linear Regression, the loss function is also called the $SSR$ -- the average of the <b>Sum of Squared Residuals</b> computed by the above formula. $SSR$ averages all discrepancies between the model and observed data points.<br>\n",
    "\n",
    "The loss function above is easily differentiable: if we calculate its derivative (gradient) and set it to zero, then we can just solve a system of linear equations to get optimal values of $\\mathbf{w}$ and $b$.\n",
    "(As we know from Calculus: to find the minimum or the maximum of a function, we set the gradient to zero because the value of the gradient at extrema of a function is always zero.)"
   ]
  },
  {
   "cell_type": "markdown",
   "metadata": {},
   "source": [
    "## Predicting home prices\n",
    "Given a vector containing features of a house, we want to be able to predict its price. To build a predictive regression model, we use the dataset ''House Sales in King County, USA'', downloaded from kaggle.<br>"
   ]
  },
  {
   "cell_type": "markdown",
   "metadata": {},
   "source": [
    "Download the data file [housing.csv](https://docs.google.com/spreadsheets/d/1vk06vuH277_905XORBYQhc4Cf8Poe3BS0AsiBmlzcKA/edit?usp=sharing) to your local directory.<br>\n",
    "__Update the variable `file_name` in the cell below to point to your local directory where you store the datasets for this course__ and then run the cell."
   ]
  },
  {
   "cell_type": "code",
   "execution_count": 1,
   "metadata": {},
   "outputs": [],
   "source": [
    "file_name = \"../../data_ml_2020/housing.csv\""
   ]
  },
  {
   "cell_type": "markdown",
   "metadata": {},
   "source": [
    "## 1. Simple Linear Regression"
   ]
  },
  {
   "cell_type": "markdown",
   "metadata": {},
   "source": [
    "### 1.1. Explore the data\n",
    "After I did some modifications and preprocessing of the original data, we have the following all-numeric features:\n",
    "<ul>\n",
    "    <li>id - house identifier, numeric.</li>\n",
    "    <li>price - house price, numeric. <b>This is the target variable that we are trying to predict</b>.</li>\n",
    "    <li>bedrooms - no. of bedrooms, numeric.</li>\n",
    "    <li>bathrooms - no. of bathrooms, numeric.</li>\n",
    "    <li>sqft_living - square footage of the home, numeric.</li>\n",
    "    <li>sqft_lot - square footage of the lot, numeric.</li>\n",
    "    <li>floors - no.of floors, numeric.</li>\n",
    "    <li>waterfront - has a view to a waterfront, numeric (0 or 1).</li>\n",
    "    <li>condition - the amount of wear-and-tear, numeric (from 0 to 5).</li>\n",
    "    <li>sqft_above - square footage of house apart from basement, numeric.</li>\n",
    "    <li>sqft_basement - square footage of the basement, numeric.</li>\n",
    "    <li>age - number of years since year built to year sold, numeric.</li>\n",
    "</ul>"
   ]
  },
  {
   "cell_type": "code",
   "execution_count": 2,
   "metadata": {
    "scrolled": true
   },
   "outputs": [
    {
     "data": {
      "text/html": [
       "<div>\n",
       "<style scoped>\n",
       "    .dataframe tbody tr th:only-of-type {\n",
       "        vertical-align: middle;\n",
       "    }\n",
       "\n",
       "    .dataframe tbody tr th {\n",
       "        vertical-align: top;\n",
       "    }\n",
       "\n",
       "    .dataframe thead th {\n",
       "        text-align: right;\n",
       "    }\n",
       "</style>\n",
       "<table border=\"1\" class=\"dataframe\">\n",
       "  <thead>\n",
       "    <tr style=\"text-align: right;\">\n",
       "      <th></th>\n",
       "      <th>price</th>\n",
       "      <th>bedrooms</th>\n",
       "      <th>bathrooms</th>\n",
       "      <th>sqft_living</th>\n",
       "      <th>sqft_lot</th>\n",
       "      <th>floors</th>\n",
       "      <th>waterfront</th>\n",
       "      <th>condition</th>\n",
       "      <th>sqft_above</th>\n",
       "      <th>sqft_basement</th>\n",
       "      <th>age</th>\n",
       "    </tr>\n",
       "  </thead>\n",
       "  <tbody>\n",
       "    <tr>\n",
       "      <th>count</th>\n",
       "      <td>2.161300e+04</td>\n",
       "      <td>21613.000000</td>\n",
       "      <td>21613.000000</td>\n",
       "      <td>21613.000000</td>\n",
       "      <td>2.161300e+04</td>\n",
       "      <td>21613.000000</td>\n",
       "      <td>21613.000000</td>\n",
       "      <td>21613.000000</td>\n",
       "      <td>21613.000000</td>\n",
       "      <td>21613.000000</td>\n",
       "      <td>21613.000000</td>\n",
       "    </tr>\n",
       "    <tr>\n",
       "      <th>mean</th>\n",
       "      <td>5.401822e+05</td>\n",
       "      <td>3.370842</td>\n",
       "      <td>2.114757</td>\n",
       "      <td>2079.899736</td>\n",
       "      <td>1.510697e+04</td>\n",
       "      <td>1.494309</td>\n",
       "      <td>0.007542</td>\n",
       "      <td>3.409430</td>\n",
       "      <td>1788.390691</td>\n",
       "      <td>291.509045</td>\n",
       "      <td>43.317818</td>\n",
       "    </tr>\n",
       "    <tr>\n",
       "      <th>std</th>\n",
       "      <td>3.673622e+05</td>\n",
       "      <td>0.930062</td>\n",
       "      <td>0.770163</td>\n",
       "      <td>918.440897</td>\n",
       "      <td>4.142051e+04</td>\n",
       "      <td>0.539989</td>\n",
       "      <td>0.086517</td>\n",
       "      <td>0.650743</td>\n",
       "      <td>828.090978</td>\n",
       "      <td>442.575043</td>\n",
       "      <td>29.375493</td>\n",
       "    </tr>\n",
       "    <tr>\n",
       "      <th>min</th>\n",
       "      <td>7.500000e+04</td>\n",
       "      <td>0.000000</td>\n",
       "      <td>0.000000</td>\n",
       "      <td>290.000000</td>\n",
       "      <td>5.200000e+02</td>\n",
       "      <td>1.000000</td>\n",
       "      <td>0.000000</td>\n",
       "      <td>1.000000</td>\n",
       "      <td>290.000000</td>\n",
       "      <td>0.000000</td>\n",
       "      <td>-1.000000</td>\n",
       "    </tr>\n",
       "    <tr>\n",
       "      <th>25%</th>\n",
       "      <td>3.219500e+05</td>\n",
       "      <td>3.000000</td>\n",
       "      <td>1.750000</td>\n",
       "      <td>1427.000000</td>\n",
       "      <td>5.040000e+03</td>\n",
       "      <td>1.000000</td>\n",
       "      <td>0.000000</td>\n",
       "      <td>3.000000</td>\n",
       "      <td>1190.000000</td>\n",
       "      <td>0.000000</td>\n",
       "      <td>18.000000</td>\n",
       "    </tr>\n",
       "    <tr>\n",
       "      <th>50%</th>\n",
       "      <td>4.500000e+05</td>\n",
       "      <td>3.000000</td>\n",
       "      <td>2.250000</td>\n",
       "      <td>1910.000000</td>\n",
       "      <td>7.618000e+03</td>\n",
       "      <td>1.500000</td>\n",
       "      <td>0.000000</td>\n",
       "      <td>3.000000</td>\n",
       "      <td>1560.000000</td>\n",
       "      <td>0.000000</td>\n",
       "      <td>40.000000</td>\n",
       "    </tr>\n",
       "    <tr>\n",
       "      <th>75%</th>\n",
       "      <td>6.450000e+05</td>\n",
       "      <td>4.000000</td>\n",
       "      <td>2.500000</td>\n",
       "      <td>2550.000000</td>\n",
       "      <td>1.068800e+04</td>\n",
       "      <td>2.000000</td>\n",
       "      <td>0.000000</td>\n",
       "      <td>4.000000</td>\n",
       "      <td>2210.000000</td>\n",
       "      <td>560.000000</td>\n",
       "      <td>63.000000</td>\n",
       "    </tr>\n",
       "    <tr>\n",
       "      <th>max</th>\n",
       "      <td>7.700000e+06</td>\n",
       "      <td>33.000000</td>\n",
       "      <td>8.000000</td>\n",
       "      <td>13540.000000</td>\n",
       "      <td>1.651359e+06</td>\n",
       "      <td>3.500000</td>\n",
       "      <td>1.000000</td>\n",
       "      <td>5.000000</td>\n",
       "      <td>9410.000000</td>\n",
       "      <td>4820.000000</td>\n",
       "      <td>115.000000</td>\n",
       "    </tr>\n",
       "  </tbody>\n",
       "</table>\n",
       "</div>"
      ],
      "text/plain": [
       "              price      bedrooms     bathrooms   sqft_living      sqft_lot  \\\n",
       "count  2.161300e+04  21613.000000  21613.000000  21613.000000  2.161300e+04   \n",
       "mean   5.401822e+05      3.370842      2.114757   2079.899736  1.510697e+04   \n",
       "std    3.673622e+05      0.930062      0.770163    918.440897  4.142051e+04   \n",
       "min    7.500000e+04      0.000000      0.000000    290.000000  5.200000e+02   \n",
       "25%    3.219500e+05      3.000000      1.750000   1427.000000  5.040000e+03   \n",
       "50%    4.500000e+05      3.000000      2.250000   1910.000000  7.618000e+03   \n",
       "75%    6.450000e+05      4.000000      2.500000   2550.000000  1.068800e+04   \n",
       "max    7.700000e+06     33.000000      8.000000  13540.000000  1.651359e+06   \n",
       "\n",
       "             floors    waterfront     condition    sqft_above  sqft_basement  \\\n",
       "count  21613.000000  21613.000000  21613.000000  21613.000000   21613.000000   \n",
       "mean       1.494309      0.007542      3.409430   1788.390691     291.509045   \n",
       "std        0.539989      0.086517      0.650743    828.090978     442.575043   \n",
       "min        1.000000      0.000000      1.000000    290.000000       0.000000   \n",
       "25%        1.000000      0.000000      3.000000   1190.000000       0.000000   \n",
       "50%        1.500000      0.000000      3.000000   1560.000000       0.000000   \n",
       "75%        2.000000      0.000000      4.000000   2210.000000     560.000000   \n",
       "max        3.500000      1.000000      5.000000   9410.000000    4820.000000   \n",
       "\n",
       "                age  \n",
       "count  21613.000000  \n",
       "mean      43.317818  \n",
       "std       29.375493  \n",
       "min       -1.000000  \n",
       "25%       18.000000  \n",
       "50%       40.000000  \n",
       "75%       63.000000  \n",
       "max      115.000000  "
      ]
     },
     "execution_count": 2,
     "metadata": {},
     "output_type": "execute_result"
    }
   ],
   "source": [
    "import pandas as pd\n",
    "import numpy as np\n",
    "\n",
    "# this creates a pandas.DataFrame\n",
    "data = pd.read_csv(file_name, index_col='id')\n",
    "data.describe()"
   ]
  },
  {
   "cell_type": "markdown",
   "metadata": {},
   "source": [
    "To make sure that we have some attributes that have a potential of predicting the price and that we are not wasting our time - let's see if there are any features that are significantly correlated with the price:"
   ]
  },
  {
   "cell_type": "code",
   "execution_count": 3,
   "metadata": {},
   "outputs": [
    {
     "data": {
      "text/plain": [
       "<matplotlib.axes._subplots.AxesSubplot at 0x2985dbf1370>"
      ]
     },
     "execution_count": 3,
     "metadata": {},
     "output_type": "execute_result"
    },
    {
     "data": {
      "image/png": "[encoded data removed]",
      "text/plain": [
       "<Figure size 432x288 with 2 Axes>"
      ]
     },
     "metadata": {
      "needs_background": "light"
     },
     "output_type": "display_data"
    }
   ],
   "source": [
    "# Is there any correlation between features?\n",
    "import seaborn as sns\n",
    "import matplotlib.pyplot as plt\n",
    "%matplotlib inline\n",
    "\n",
    "corr = data.corr()\n",
    "sns.heatmap(corr)"
   ]
  },
  {
   "cell_type": "markdown",
   "metadata": {},
   "source": [
    "It seems that <em>sqft_living</em> and <em>sqft_above</em> have \n",
    "a positive influence on price, and the house age has the most negative influence."
   ]
  },
  {
   "cell_type": "markdown",
   "metadata": {},
   "source": [
    "### 1.2. Build the model"
   ]
  },
  {
   "cell_type": "code",
   "execution_count": 4,
   "metadata": {},
   "outputs": [],
   "source": [
    "from sklearn import linear_model\n",
    "regr = linear_model.LinearRegression(normalize=True)"
   ]
  },
  {
   "cell_type": "code",
   "execution_count": 5,
   "metadata": {},
   "outputs": [],
   "source": [
    "Y = data['price'] \n",
    "X = data['sqft_living'] \n",
    "\n",
    "# convert to numpy vectors (1D vectors in this case)\n",
    "X=X.values.reshape(len(X),1) \n",
    "Y=Y.values.reshape(len(Y),1) "
   ]
  },
  {
   "cell_type": "code",
   "execution_count": 6,
   "metadata": {},
   "outputs": [],
   "source": [
    "# Split the data into training/testing sets 2:1\n",
    "split_n = len(X)//3 \n",
    "X_train = X[:-split_n] \n",
    "X_test = X[-split_n:] \n",
    "   \n",
    "# Split the targets into training/testing sets \n",
    "Y_train = Y[:-split_n] \n",
    "Y_test = Y[-split_n:] "
   ]
  },
  {
   "cell_type": "code",
   "execution_count": 7,
   "metadata": {},
   "outputs": [
    {
     "data": {
      "text/plain": [
       "LinearRegression(normalize=True)"
      ]
     },
     "execution_count": 7,
     "metadata": {},
     "output_type": "execute_result"
    }
   ],
   "source": [
    "# Train the model using the training set \n",
    "regr.fit(X_train, Y_train)   "
   ]
  },
  {
   "cell_type": "code",
   "execution_count": 8,
   "metadata": {},
   "outputs": [
    {
     "data": {
      "image/png": "[encoded data removed]",
      "text/plain": [
       "<Figure size 432x288 with 1 Axes>"
      ]
     },
     "metadata": {
      "needs_background": "light"
     },
     "output_type": "display_data"
    }
   ],
   "source": [
    "# Plot data points\n",
    "plt.scatter(X_train, Y_train,  color='black') \n",
    "plt.title('Train Data Fit') \n",
    "plt.xlabel('Area, sqft') \n",
    "plt.ylabel('Price') \n",
    "\n",
    "# Plot regression line \n",
    "plt.plot(X_train, regr.predict(X_train), color='red',linewidth=3) \n",
    "plt.show() "
   ]
  },
  {
   "cell_type": "markdown",
   "metadata": {},
   "source": [
    "### 1.3. Model evaluation\n",
    "The coefficient of determination, denoted as $R^2$, tells you which amount of variation in $𝑦$ is explained by the variance in $\\mathbf{𝐱}$, according to our regression model. Larger $R^2$ indicates a better model.<br>\n",
    "The value $R^2=1.0$ corresponds to $SSR = 0$, that is to the perfect fit since the values of predicted and actual responses fit completely with each other."
   ]
  },
  {
   "cell_type": "code",
   "execution_count": 9,
   "metadata": {},
   "outputs": [
    {
     "name": "stdout",
     "output_type": "stream",
     "text": [
      "intercept: [-51449.31486087]\n",
      "slope: [[285.02649225]]\n",
      "Coefficient of determination for train data: 0.4915940045103644\n"
     ]
    }
   ],
   "source": [
    "r_sq = regr.score(X_train,Y_train)\n",
    "print('intercept:', regr.intercept_)\n",
    "print('slope:', regr.coef_)\n",
    "print(\"Coefficient of determination for train data:\", r_sq)"
   ]
  },
  {
   "cell_type": "markdown",
   "metadata": {},
   "source": [
    "How would this model perform on new data?"
   ]
  },
  {
   "cell_type": "code",
   "execution_count": 10,
   "metadata": {},
   "outputs": [
    {
     "name": "stdout",
     "output_type": "stream",
     "text": [
      "Coefficient of determination for test data: 0.49377143659205613\n"
     ]
    }
   ],
   "source": [
    "r_sq_test = regr.score(X_test,Y_test)\n",
    "print(\"Coefficient of determination for test data:\", r_sq_test)"
   ]
  },
  {
   "cell_type": "markdown",
   "metadata": {},
   "source": [
    "### 1.4. Prediction\n",
    "Now let's take two houses from the dataset and imagine that we want to estimate their prices using our model. The area of the first house is $830$ sqft and the price is \\\\$85,000. The second house with the area of $7300$ sqft and was sold for \\\\$5,300,000.\n"
   ]
  },
  {
   "cell_type": "code",
   "execution_count": 11,
   "metadata": {},
   "outputs": [
    {
     "name": "stdout",
     "output_type": "stream",
     "text": [
      "predicted price: [[ 185122.67]\n",
      " [2054896.46]]\n",
      "actual price [  85000 5300000]\n"
     ]
    }
   ],
   "source": [
    "x = [[830], [7390]]\n",
    "y = [85000, 5300000]\n",
    "x, y = np.array(x), np.array(y)\n",
    "np.set_printoptions(precision=2)\n",
    "\n",
    "y_pred = regr.predict(x)\n",
    "print('predicted price:', y_pred)\n",
    "print('actual price', y)"
   ]
  },
  {
   "cell_type": "markdown",
   "metadata": {},
   "source": [
    "## 2. Multiple Linear Regression\n",
    "<em>Multiple</em> or Multivariate Linear Regression is used in cases when we have two or more features to predict the target.\n",
    "\n",
    "If there are just two features, the regression function becomes: \n",
    "$$f(x_1, x_2) = b + w_1x_1 + w_2x_2$$ \n",
    "It represents a regression plane in a three-dimensional space.<br> \n",
    "The task becomes to determine the values of the $b$, $w_1$ and $w_2$, such that this plane is as close as possible to the actual responses and yields the minimal $SSR$.<br>\n",
    "In general case with $D>2$ features -- the function has the form:\n",
    "$$f(x_1, \\ldots, x_D) = b + w_1x_1 + \\ldots + w_Dx_D$$\n",
    "and there are $D+1$ parameters to learn. "
   ]
  },
  {
   "cell_type": "markdown",
   "metadata": {},
   "source": [
    "### 2.1. Build the model\n",
    "The process is performed as before, but we use all 10 features as input variables."
   ]
  },
  {
   "cell_type": "code",
   "execution_count": 12,
   "metadata": {},
   "outputs": [
    {
     "data": {
      "text/plain": [
       "LinearRegression(normalize=True)"
      ]
     },
     "execution_count": 12,
     "metadata": {},
     "output_type": "execute_result"
    }
   ],
   "source": [
    "Y = data['price'] \n",
    "X = data[['bedrooms','bathrooms', 'sqft_living','sqft_lot',\n",
    "          'floors', 'waterfront', 'condition', 'sqft_above', \n",
    "          'sqft_basement', 'age']] \n",
    "\n",
    "X=X.values.reshape(len(X),len(X.columns)) \n",
    "Y=Y.values.reshape(len(Y),1) \n",
    "\n",
    "# Split the data into training/testing sets \n",
    "split_n = 2*len(X)//3 \n",
    "X_train = X[:-split_n] \n",
    "X_test = X[-split_n:] \n",
    "   \n",
    "# Split the targets into training/testing sets \n",
    "Y_train = Y[:-split_n] \n",
    "Y_test = Y[-split_n:] \n",
    "\n",
    "regr = linear_model.LinearRegression(normalize=True)\n",
    "regr.fit(X_train, Y_train)"
   ]
  },
  {
   "cell_type": "markdown",
   "metadata": {},
   "source": [
    "### 2.2. Evaluate multivariate model\n",
    "Does this model predict better than the single-variable model?"
   ]
  },
  {
   "cell_type": "code",
   "execution_count": 13,
   "metadata": {},
   "outputs": [
    {
     "name": "stdout",
     "output_type": "stream",
     "text": [
      "Coefficient of determination for train data: 0.6053617493660168\n",
      "intercept: [-282129.93]\n",
      "slope: [[-6.10e+04  6.32e+04  1.53e+02 -1.56e-01  2.58e+04  8.94e+05  1.84e+04\n",
      "   1.59e+02  1.07e+02  3.40e+03]]\n",
      "Coefficient of determination for test data: 0.5708598620822938\n"
     ]
    }
   ],
   "source": [
    "r_sq_train = regr.score(X_train,Y_train)\n",
    "print(\"Coefficient of determination for train data:\", r_sq_train)\n",
    "print('intercept:', regr.intercept_)\n",
    "print('slope:', regr.coef_)\n",
    "\n",
    "r_sq_test = regr.score(X_test,Y_test)\n",
    "print(\"Coefficient of determination for test data:\", r_sq_test)"
   ]
  },
  {
   "cell_type": "markdown",
   "metadata": {},
   "source": [
    "If $R^2$ score is significantly better for the train data than for the test data - this is a sign of overfitting: we followed too closely to the training data points and the model failed to generalize. "
   ]
  },
  {
   "cell_type": "markdown",
   "metadata": {},
   "source": [
    "### 2.3. Prediction\n",
    "What about our two houses?"
   ]
  },
  {
   "cell_type": "code",
   "execution_count": 14,
   "metadata": {},
   "outputs": [
    {
     "name": "stdout",
     "output_type": "stream",
     "text": [
      "predicted price: [[ 253017.46]\n",
      " [3012134.57]]\n",
      "actual price [  85000 5300000]\n"
     ]
    }
   ],
   "source": [
    "x = [[2,1,830,9000,1,0,3,830,0,75], [6,6,7390,24829,2,1,4,5000,2390,24]]\n",
    "y = [85000, 5300000]\n",
    "x, y = np.array(x), np.array(y)\n",
    "\n",
    "y_pred = regr.predict(x)\n",
    "print('predicted price:', y_pred)\n",
    "print('actual price', y)"
   ]
  },
  {
   "cell_type": "markdown",
   "metadata": {},
   "source": [
    "## 3. Polynomial Regression\n",
    "\n",
    "In this case, we assume that the dependence between input and target variables is not linear, but polynomial. \n",
    "\n",
    "In other words, in addition to linear terms like $w_1x_1$, our regression function $f$ can include non-linear terms such as $w_2x_1^2$, $w_3x_1^3$, or even $w_4x_1x_2$, $w_5x_1^2x_2$, and so on.\n",
    "\n",
    "The simplest example of polynomial regression in the case of a single input variable is a polynomial of degree 2: \n",
    "$$f(x) = b + w_1x + w_2x^2$$.\n",
    "\n",
    "Now, we want to compute $b$, $w_1$ and $w_2$.  \n",
    "Keeping this in mind, compare the polynomial regression function with the function $f(x) = b + w_1x_1 + w_2x_2$ used for linear regression. They look very similar and are both linear functions with the unknown coefficients $b$, $w_1$ and $w_2$. This is why we can solve the polynomial regression problem as a linear problem with the term $x^2$ regarded as an additional input variable.\n",
    "\n",
    "In the case of two variables and the polynomial of degree 2, the regression function has this form: \n",
    "\n",
    "$$f([x_1, x_2]) = b + w_1x_1 + w_2x_2 + w_3x_1^2 + w_4x_2^2  + w_5x_1x_2$$. \n",
    "\n",
    "The algorithm for solving this problem is exactly the same: we apply linear regression learning to 5 input variables: $x_1$, $x_2$, $x_1^2$, $x_2^2$, and $x_1x_2$.  As the result we get the values of six weights which minimize $SSR$: $b$, $w_1$, $w_2$, $w_3$, $w_4$ and $w_5$.\n",
    "\n",
    "### 3.1. Adding derived input variables\n",
    "All we need to do, is to add some more artificial columns to the dataset. We use the <code>PolynomialFeatures</code> of the <code>sklearn.preprocessing</code> package. "
   ]
  },
  {
   "cell_type": "code",
   "execution_count": 15,
   "metadata": {},
   "outputs": [],
   "source": [
    "from sklearn.preprocessing import PolynomialFeatures"
   ]
  },
  {
   "cell_type": "markdown",
   "metadata": {},
   "source": [
    "### 3.2. Polynomial regression with a single variable\n",
    "Let's start with a single input variable -- <code>sqft_living</code>, and the polinomial of degree 2."
   ]
  },
  {
   "cell_type": "code",
   "execution_count": 16,
   "metadata": {},
   "outputs": [],
   "source": [
    "Y = data['price'] \n",
    "X = data['sqft_living'] \n",
    "\n",
    "# convert to numpy vectors (1D vectors in this case)\n",
    "X=X.values.reshape(len(X),1) \n",
    "Y=Y.values.reshape(len(Y),1) \n",
    "   \n",
    "# Split the data into training/testing sets \n",
    "split_n = 2*len(X)//3 \n",
    "X_train = X[:-split_n] \n",
    "X_test = X[-split_n:] \n",
    "   \n",
    "# Split the targets into training/testing sets \n",
    "Y_train = Y[:-split_n] \n",
    "Y_test = Y[-split_n:] "
   ]
  },
  {
   "cell_type": "markdown",
   "metadata": {},
   "source": [
    "Now let's generate an additional column: $x^2$."
   ]
  },
  {
   "cell_type": "code",
   "execution_count": 17,
   "metadata": {},
   "outputs": [
    {
     "name": "stdout",
     "output_type": "stream",
     "text": [
      "[[1.18e+03 1.39e+06]\n",
      " [2.57e+03 6.60e+06]\n",
      " [7.70e+02 5.93e+05]\n",
      " ...\n",
      " [2.69e+03 7.24e+06]\n",
      " [2.78e+03 7.73e+06]\n",
      " [1.14e+03 1.30e+06]]\n"
     ]
    }
   ],
   "source": [
    "transformer = PolynomialFeatures(degree=2, include_bias=False)\n",
    "transformer.fit(X_train)\n",
    "X_train_ = transformer.transform(X_train)\n",
    "\n",
    "print(X_train_)"
   ]
  },
  {
   "cell_type": "markdown",
   "metadata": {},
   "source": [
    "The dataset now contains an additional column $x^2$.<br>\n",
    "Everything else is performed exactly as before, but we use an extended <code>$X_train_</code> instead of the original <code>$X_train</code>. Note that we have to do the same transformation for the test dataset."
   ]
  },
  {
   "cell_type": "code",
   "execution_count": 18,
   "metadata": {},
   "outputs": [
    {
     "name": "stdout",
     "output_type": "stream",
     "text": [
      "Coefficient of determination for train data: 0.5601046215332874\n",
      "Coefficient of determination for test data: 0.5025145874008428\n"
     ]
    }
   ],
   "source": [
    "# Train the model as before\n",
    "regr = linear_model.LinearRegression(normalize=True)\n",
    "regr.fit(X_train_, Y_train)    \n",
    "   \n",
    "r_sq_train = regr.score(X_train_,Y_train)\n",
    "print(\"Coefficient of determination for train data:\", r_sq_train)\n",
    "\n",
    "transformer.fit(X_test)\n",
    "X_test_ = transformer.transform(X_test)\n",
    "\n",
    "r_sq_test = regr.score(X_test_,Y_test)\n",
    "print(\"Coefficient of determination for test data:\", r_sq_test)"
   ]
  },
  {
   "cell_type": "markdown",
   "metadata": {},
   "source": [
    "### 3.3. Polynomial regression with all the features\n",
    "Let's try to improve the model using polynomial regression for all the features."
   ]
  },
  {
   "cell_type": "code",
   "execution_count": 19,
   "metadata": {},
   "outputs": [
    {
     "name": "stdout",
     "output_type": "stream",
     "text": [
      "3.0 1.0 9.0 3.0\n"
     ]
    }
   ],
   "source": [
    "Y = data['price'] \n",
    "X = data[['bedrooms','bathrooms', 'sqft_living','sqft_lot',\n",
    "          'floors', 'waterfront', 'condition', 'sqft_above', \n",
    "          'sqft_basement', 'age']] \n",
    "\n",
    "X=X.values.reshape(len(X),len(X.columns)) \n",
    "Y=Y.values.reshape(len(Y),1) \n",
    "\n",
    "# Split the data into training/testing sets \n",
    "split_n = 2*len(X)//3 \n",
    "X_train = X[:-split_n] \n",
    "X_test = X[-split_n:] \n",
    "   \n",
    "# Split the targets into training/testing sets \n",
    "Y_train = Y[:-split_n] \n",
    "Y_test = Y[-split_n:] \n",
    "\n",
    "transformer = PolynomialFeatures(degree=2, include_bias=False)\n",
    "transformer.fit(X_train)\n",
    "X_train_ = transformer.transform(X_train)\n",
    "\n",
    "print(X_train_[0][0], X_train_[0][1], X_train_[0][10], X_train_[0][11] )\n"
   ]
  },
  {
   "cell_type": "markdown",
   "metadata": {},
   "source": [
    "The modified input array contains additional columns: one with the original feature, the other with its square plus the multiplications to the values in all other columns.\n",
    "\n",
    "The model learning algorithm does not change:"
   ]
  },
  {
   "cell_type": "code",
   "execution_count": 20,
   "metadata": {},
   "outputs": [
    {
     "ename": "ValueError",
     "evalue": "matmul: Input operand 1 has a mismatch in its core dimension 0, with gufunc signature (n?,k),(k,m?)->(n?,m?) (size 10 is different from 65)",
     "output_type": "error",
     "traceback": [
      "\u001b[1;31m---------------------------------------------------------------------------\u001b[0m",
      "\u001b[1;31mValueError\u001b[0m                                Traceback (most recent call last)",
      "\u001b[1;32m<ipython-input-20-db34c33a0c5a>\u001b[0m in \u001b[0;36m<module>\u001b[1;34m\u001b[0m\n\u001b[0;32m      2\u001b[0m \u001b[0mregr\u001b[0m\u001b[1;33m.\u001b[0m\u001b[0mfit\u001b[0m\u001b[1;33m(\u001b[0m\u001b[0mX_train\u001b[0m\u001b[1;33m,\u001b[0m \u001b[0mY_train\u001b[0m\u001b[1;33m)\u001b[0m\u001b[1;33m\u001b[0m\u001b[1;33m\u001b[0m\u001b[0m\n\u001b[0;32m      3\u001b[0m \u001b[1;33m\u001b[0m\u001b[0m\n\u001b[1;32m----> 4\u001b[1;33m \u001b[0mr_sq_train\u001b[0m \u001b[1;33m=\u001b[0m \u001b[0mregr\u001b[0m\u001b[1;33m.\u001b[0m\u001b[0mscore\u001b[0m\u001b[1;33m(\u001b[0m\u001b[0mX_train_\u001b[0m\u001b[1;33m,\u001b[0m\u001b[0mY_train\u001b[0m\u001b[1;33m)\u001b[0m\u001b[1;33m\u001b[0m\u001b[1;33m\u001b[0m\u001b[0m\n\u001b[0m\u001b[0;32m      5\u001b[0m \u001b[0mprint\u001b[0m\u001b[1;33m(\u001b[0m\u001b[1;34m\"Coefficient of determination for train data:\"\u001b[0m\u001b[1;33m,\u001b[0m \u001b[0mr_sq_train\u001b[0m\u001b[1;33m)\u001b[0m\u001b[1;33m\u001b[0m\u001b[1;33m\u001b[0m\u001b[0m\n",
      "\u001b[1;32m~\\anaconda3\\lib\\site-packages\\sklearn\\base.py\u001b[0m in \u001b[0;36mscore\u001b[1;34m(self, X, y, sample_weight)\u001b[0m\n\u001b[0;32m    549\u001b[0m \u001b[1;33m\u001b[0m\u001b[0m\n\u001b[0;32m    550\u001b[0m         \u001b[1;32mfrom\u001b[0m \u001b[1;33m.\u001b[0m\u001b[0mmetrics\u001b[0m \u001b[1;32mimport\u001b[0m \u001b[0mr2_score\u001b[0m\u001b[1;33m\u001b[0m\u001b[1;33m\u001b[0m\u001b[0m\n\u001b[1;32m--> 551\u001b[1;33m         \u001b[0my_pred\u001b[0m \u001b[1;33m=\u001b[0m \u001b[0mself\u001b[0m\u001b[1;33m.\u001b[0m\u001b[0mpredict\u001b[0m\u001b[1;33m(\u001b[0m\u001b[0mX\u001b[0m\u001b[1;33m)\u001b[0m\u001b[1;33m\u001b[0m\u001b[1;33m\u001b[0m\u001b[0m\n\u001b[0m\u001b[0;32m    552\u001b[0m         \u001b[1;32mreturn\u001b[0m \u001b[0mr2_score\u001b[0m\u001b[1;33m(\u001b[0m\u001b[0my\u001b[0m\u001b[1;33m,\u001b[0m \u001b[0my_pred\u001b[0m\u001b[1;33m,\u001b[0m \u001b[0msample_weight\u001b[0m\u001b[1;33m=\u001b[0m\u001b[0msample_weight\u001b[0m\u001b[1;33m)\u001b[0m\u001b[1;33m\u001b[0m\u001b[1;33m\u001b[0m\u001b[0m\n\u001b[0;32m    553\u001b[0m \u001b[1;33m\u001b[0m\u001b[0m\n",
      "\u001b[1;32m~\\anaconda3\\lib\\site-packages\\sklearn\\linear_model\\_base.py\u001b[0m in \u001b[0;36mpredict\u001b[1;34m(self, X)\u001b[0m\n\u001b[0;32m    234\u001b[0m             \u001b[0mReturns\u001b[0m \u001b[0mpredicted\u001b[0m \u001b[0mvalues\u001b[0m\u001b[1;33m.\u001b[0m\u001b[1;33m\u001b[0m\u001b[1;33m\u001b[0m\u001b[0m\n\u001b[0;32m    235\u001b[0m         \"\"\"\n\u001b[1;32m--> 236\u001b[1;33m         \u001b[1;32mreturn\u001b[0m \u001b[0mself\u001b[0m\u001b[1;33m.\u001b[0m\u001b[0m_decision_function\u001b[0m\u001b[1;33m(\u001b[0m\u001b[0mX\u001b[0m\u001b[1;33m)\u001b[0m\u001b[1;33m\u001b[0m\u001b[1;33m\u001b[0m\u001b[0m\n\u001b[0m\u001b[0;32m    237\u001b[0m \u001b[1;33m\u001b[0m\u001b[0m\n\u001b[0;32m    238\u001b[0m     \u001b[0m_preprocess_data\u001b[0m \u001b[1;33m=\u001b[0m \u001b[0mstaticmethod\u001b[0m\u001b[1;33m(\u001b[0m\u001b[0m_preprocess_data\u001b[0m\u001b[1;33m)\u001b[0m\u001b[1;33m\u001b[0m\u001b[1;33m\u001b[0m\u001b[0m\n",
      "\u001b[1;32m~\\anaconda3\\lib\\site-packages\\sklearn\\linear_model\\_base.py\u001b[0m in \u001b[0;36m_decision_function\u001b[1;34m(self, X)\u001b[0m\n\u001b[0;32m    217\u001b[0m \u001b[1;33m\u001b[0m\u001b[0m\n\u001b[0;32m    218\u001b[0m         \u001b[0mX\u001b[0m \u001b[1;33m=\u001b[0m \u001b[0mcheck_array\u001b[0m\u001b[1;33m(\u001b[0m\u001b[0mX\u001b[0m\u001b[1;33m,\u001b[0m \u001b[0maccept_sparse\u001b[0m\u001b[1;33m=\u001b[0m\u001b[1;33m[\u001b[0m\u001b[1;34m'csr'\u001b[0m\u001b[1;33m,\u001b[0m \u001b[1;34m'csc'\u001b[0m\u001b[1;33m,\u001b[0m \u001b[1;34m'coo'\u001b[0m\u001b[1;33m]\u001b[0m\u001b[1;33m)\u001b[0m\u001b[1;33m\u001b[0m\u001b[1;33m\u001b[0m\u001b[0m\n\u001b[1;32m--> 219\u001b[1;33m         return safe_sparse_dot(X, self.coef_.T,\n\u001b[0m\u001b[0;32m    220\u001b[0m                                dense_output=True) + self.intercept_\n\u001b[0;32m    221\u001b[0m \u001b[1;33m\u001b[0m\u001b[0m\n",
      "\u001b[1;32m~\\anaconda3\\lib\\site-packages\\sklearn\\utils\\validation.py\u001b[0m in \u001b[0;36minner_f\u001b[1;34m(*args, **kwargs)\u001b[0m\n\u001b[0;32m     71\u001b[0m                           FutureWarning)\n\u001b[0;32m     72\u001b[0m         \u001b[0mkwargs\u001b[0m\u001b[1;33m.\u001b[0m\u001b[0mupdate\u001b[0m\u001b[1;33m(\u001b[0m\u001b[1;33m{\u001b[0m\u001b[0mk\u001b[0m\u001b[1;33m:\u001b[0m \u001b[0marg\u001b[0m \u001b[1;32mfor\u001b[0m \u001b[0mk\u001b[0m\u001b[1;33m,\u001b[0m \u001b[0marg\u001b[0m \u001b[1;32min\u001b[0m \u001b[0mzip\u001b[0m\u001b[1;33m(\u001b[0m\u001b[0msig\u001b[0m\u001b[1;33m.\u001b[0m\u001b[0mparameters\u001b[0m\u001b[1;33m,\u001b[0m \u001b[0margs\u001b[0m\u001b[1;33m)\u001b[0m\u001b[1;33m}\u001b[0m\u001b[1;33m)\u001b[0m\u001b[1;33m\u001b[0m\u001b[1;33m\u001b[0m\u001b[0m\n\u001b[1;32m---> 73\u001b[1;33m         \u001b[1;32mreturn\u001b[0m \u001b[0mf\u001b[0m\u001b[1;33m(\u001b[0m\u001b[1;33m**\u001b[0m\u001b[0mkwargs\u001b[0m\u001b[1;33m)\u001b[0m\u001b[1;33m\u001b[0m\u001b[1;33m\u001b[0m\u001b[0m\n\u001b[0m\u001b[0;32m     74\u001b[0m     \u001b[1;32mreturn\u001b[0m \u001b[0minner_f\u001b[0m\u001b[1;33m\u001b[0m\u001b[1;33m\u001b[0m\u001b[0m\n\u001b[0;32m     75\u001b[0m \u001b[1;33m\u001b[0m\u001b[0m\n",
      "\u001b[1;32m~\\anaconda3\\lib\\site-packages\\sklearn\\utils\\extmath.py\u001b[0m in \u001b[0;36msafe_sparse_dot\u001b[1;34m(a, b, dense_output)\u001b[0m\n\u001b[0;32m    151\u001b[0m             \u001b[0mret\u001b[0m \u001b[1;33m=\u001b[0m \u001b[0mnp\u001b[0m\u001b[1;33m.\u001b[0m\u001b[0mdot\u001b[0m\u001b[1;33m(\u001b[0m\u001b[0ma\u001b[0m\u001b[1;33m,\u001b[0m \u001b[0mb\u001b[0m\u001b[1;33m)\u001b[0m\u001b[1;33m\u001b[0m\u001b[1;33m\u001b[0m\u001b[0m\n\u001b[0;32m    152\u001b[0m     \u001b[1;32melse\u001b[0m\u001b[1;33m:\u001b[0m\u001b[1;33m\u001b[0m\u001b[1;33m\u001b[0m\u001b[0m\n\u001b[1;32m--> 153\u001b[1;33m         \u001b[0mret\u001b[0m \u001b[1;33m=\u001b[0m \u001b[0ma\u001b[0m \u001b[1;33m@\u001b[0m \u001b[0mb\u001b[0m\u001b[1;33m\u001b[0m\u001b[1;33m\u001b[0m\u001b[0m\n\u001b[0m\u001b[0;32m    154\u001b[0m \u001b[1;33m\u001b[0m\u001b[0m\n\u001b[0;32m    155\u001b[0m     if (sparse.issparse(a) and sparse.issparse(b)\n",
      "\u001b[1;31mValueError\u001b[0m: matmul: Input operand 1 has a mismatch in its core dimension 0, with gufunc signature (n?,k),(k,m?)->(n?,m?) (size 10 is different from 65)"
     ]
    }
   ],
   "source": [
    "regr = linear_model.LinearRegression(normalize=True)\n",
    "regr.fit(X_train, Y_train)\n",
    "\n",
    "r_sq_train = regr.score(X_train_,Y_train)\n",
    "print(\"Coefficient of determination for train data:\", r_sq_train)"
   ]
  },
  {
   "cell_type": "code",
   "execution_count": null,
   "metadata": {},
   "outputs": [],
   "source": [
    "transformer.fit(X_test)\n",
    "X_test_ = transformer.transform(X_test)\n",
    "\n"
   ]
  },
  {
   "cell_type": "code",
   "execution_count": null,
   "metadata": {},
   "outputs": [],
   "source": [
    "r_sq_test = regr.score(X_test,Y_test)\n",
    "print(\"Coefficient of determination for test data:\", r_sq_test)"
   ]
  },
  {
   "cell_type": "markdown",
   "metadata": {},
   "source": [
    "What about our two houses?"
   ]
  },
  {
   "cell_type": "code",
   "execution_count": null,
   "metadata": {},
   "outputs": [],
   "source": [
    "x = [[2,1,830,9000,1,0,3,830,0,75], [6,6,7390,24829,2,1,4,5000,2390,24]]\n",
    "y = [85000, 5300000]\n",
    "x, y = np.array(x), np.array(y)\n",
    "\n",
    "transformer.fit(x)\n",
    "x_ = transformer.transform(x)\n",
    "\n",
    "y_pred = regr.predict(x_)\n",
    "print('predicted price:', y_pred)\n",
    "print('actual price', y)"
   ]
  },
  {
   "cell_type": "markdown",
   "metadata": {},
   "source": [
    "That is the best we can do so far. Fortunately, there are other regression techniques suitable for the cases where linear regression doesn’t perform well: Support Vector Regression, Decision Trees, Random Forests, and Neural Networks, to name the few.\n",
    "\n",
    "Copyright &copy; 2020 Marina Barsky. All rights reserved."
   ]
  }
 ],
 "metadata": {
  "kernelspec": {
   "display_name": "Python 3",
   "language": "python",
   "name": "python3"
  },
  "language_info": {
   "codemirror_mode": {
    "name": "ipython",
    "version": 3
   },
   "file_extension": ".py",
   "mimetype": "text/x-python",
   "name": "python",
   "nbconvert_exporter": "python",
   "pygments_lexer": "ipython3",
   "version": "3.8.3"
  }
 },
 "nbformat": 4,
 "nbformat_minor": 4
}
